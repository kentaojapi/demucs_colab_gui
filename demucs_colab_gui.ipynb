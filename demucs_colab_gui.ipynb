{
  "cells": [
    {
      "cell_type": "markdown",
      "metadata": {
        "id": "view-in-github",
        "colab_type": "text"
      },
      "source": [
        "<a href=\"https://colab.research.google.com/github/kentaojapi/demucs_colab_gui/blob/main/demucs_colab_gui.ipynb\" target=\"_parent\"><img src=\"https://colab.research.google.com/assets/colab-badge.svg\" alt=\"Open In Colab\"/></a>"
      ]
    },
    {
      "cell_type": "markdown",
      "metadata": {
        "id": "cNz-yh2HFz_G"
      },
      "source": [
        "DemucsをGUI操作だけで利用できるようにするnotebookです。\n",
        "\n",
        "* GitHub<br>\n",
        "https://github.com/facebookresearch/demucs<br>\n"
      ]
    },
    {
      "cell_type": "markdown",
      "source": [
        "# 1. 環境のセットアップ"
      ],
      "metadata": {
        "id": "phGVRShpK0nx"
      }
    },
    {
      "cell_type": "code",
      "execution_count": null,
      "metadata": {
        "id": "2tr1tqeCq6vw",
        "cellView": "form"
      },
      "outputs": [],
      "source": [
        "\n",
        "#@title 環境のセットアップ\n",
        "#@markdown このセルを実行することで、必要な環境がセットアップされます。 \\\n",
        "#@markdown セル実行は左の再生ボタンのようなマークを押して下さい。\n",
        "!nvidia-smi\n",
        "%cd /content\n",
        "!pip install demucs\n",
        "!pip install yt-dlp moviepy\n",
        "!pip install imageio==2.4.1\n",
        "\n",
        "\n",
        "!mkdir -p /content/audios\n",
        "!mkdir -p /content/confirming\n",
        "\n",
        "\n",
        "import os\n",
        "import shutil\n",
        "import IPython.display as ipd\n",
        "import wave\n",
        "\n",
        "from google.colab import files\n",
        "from moviepy.video.fx.resize import resize\n",
        "from moviepy.editor import VideoFileClip, AudioFileClip, ImageSequenceClip, CompositeAudioClip\n",
        "from moviepy.video.io.ffmpeg_tools import ffmpeg_extract_subclip\n",
        "from yt_dlp import YoutubeDL\n",
        "\n",
        "\n",
        "def delete_files_in_directory(directory_path: str) -> None:\n",
        "    if not os.path.exists(directory_path):\n",
        "        return\n",
        "    for file_name in os.listdir(directory_path):\n",
        "        file_path = os.path.join(directory_path, file_name)\n",
        "        if os.path.isfile(file_path):\n",
        "            os.remove(file_path)\n",
        "\n",
        "\n",
        "class AudioClipper:\n",
        "    DESTINATION_PATH: str = '/content/confirming'\n",
        "    START_TIME: int = 0\n",
        "    END_TIME: int = 30\n",
        "\n",
        "    def __init__(self, input_path: str) -> None:\n",
        "        self.input_path: str = input_path\n",
        "\n",
        "    @property\n",
        "    def output_path(self) -> str:\n",
        "        file_name: str = os.path.basename(self.input_path)\n",
        "        return os.path.join(self.DESTINATION_PATH, file_name)\n",
        "\n",
        "    def run(self) -> None:\n",
        "        with wave.open(self.input_path, 'rb') as input_wav:\n",
        "            sample_width = input_wav.getsampwidth()\n",
        "            num_channels = input_wav.getnchannels()\n",
        "            frame_rate = input_wav.getframerate()\n",
        "            frames_to_clip = int(frame_rate * self.END_TIME)\n",
        "            input_wav.setpos(int(frame_rate * self.START_TIME))\n",
        "            frames = input_wav.readframes(frames_to_clip)\n",
        "\n",
        "        with wave.open(self.output_path, 'wb') as output_wav:\n",
        "            output_wav.setnchannels(num_channels)\n",
        "            output_wav.setsampwidth(sample_width)\n",
        "            output_wav.setframerate(frame_rate)\n",
        "            output_wav.writeframes(frames)\n",
        "\n",
        "\n",
        "input_audio_path = '/content/audios/input_clip.wav'\n"
      ]
    },
    {
      "cell_type": "markdown",
      "source": [
        "# 2. 対象音源の選択\n",
        "\n",
        "対象の音源は、以下2つの方法で指定することが可能です。  \n",
        "**必ずaかbのどちらかのみを実行するようにして下さい。**\n",
        "\n",
        "* a. Youtube動画  \n",
        "* b. WAVファイル"
      ],
      "metadata": {
        "id": "zBOo5SPYLER5"
      }
    },
    {
      "cell_type": "code",
      "execution_count": null,
      "metadata": {
        "id": "Ag3FeDoFsPlB",
        "cellView": "form"
      },
      "outputs": [],
      "source": [
        "#@title a. Youtube動画\n",
        "#@markdown 動画のURLを入力してください。\n",
        "video_url = 'https://www.youtube.com/watch?v=2fDzCWNS3ig' #@param {type:\"string\"}\n",
        "\n",
        "#@markdown 動画の切り抜き範囲(秒)を入力してください。その後セルを実行してください。\n",
        "start_sec =  0#@param {type:\"integer\"}\n",
        "end_sec =  233#@param {type:\"integer\"}\n",
        "\n",
        "(start_pt, end_pt) = (start_sec, end_sec)\n",
        "\n",
        "!mkdir -p /content/videos\n",
        "\n",
        "# 動画ダウンロード\n",
        "download_resolution = 360\n",
        "full_video_path = '/content/videos/full_video.mp4'\n",
        "input_clip_path = '/content/videos/input_clip.mp4'\n",
        "ydl_opts = {'format': f'best[height<={download_resolution}]', 'overwrites': True, 'outtmpl': full_video_path}\n",
        "with YoutubeDL(ydl_opts) as ydl:\n",
        "    ydl.download([video_url])\n",
        "\n",
        "# 指定区間切り抜き\n",
        "with VideoFileClip(full_video_path) as video:\n",
        "    if start_sec > video.duration:\n",
        "        raise ValueError(f\"start_sec（秒）が動画の長さを超えた値で指定されています。動画の長さは{video.duration}秒です。\")\n",
        "    if end_sec > video.duration:\n",
        "        raise ValueError(f\"end_sec（秒）が動画の長さを超えた値で指定されています。動画の長さは{video.duration}秒です。\")\n",
        "    subclip = video.subclip(start_pt, end_pt)\n",
        "    subclip.write_videofile(input_clip_path)\n",
        "\n",
        "# 音声抽出\n",
        "clip = VideoFileClip(input_clip_path)\n",
        "clip.audio.write_audiofile(input_audio_path, codec='pcm_s16le')\n"
      ]
    },
    {
      "cell_type": "code",
      "source": [
        "#@title b. WAVファイル\n",
        "#@markdown このセルを実行後にアップロードボタンが表示されます。対象のWAVファイルをアップロードしてください。 \\\n",
        "#@markdown ファイルのアップロードにはしばらく時間を要します。\n",
        "input_raw_audio_path = '/content/audios/input_raw.wav'\n",
        "\n",
        "for filename, filedata in files.upload().items():\n",
        "    shutil.move(filename, input_raw_audio_path)"
      ],
      "metadata": {
        "id": "IUH2hJTrN_lT",
        "cellView": "form"
      },
      "execution_count": null,
      "outputs": []
    },
    {
      "cell_type": "code",
      "source": [
        "#@title b.続き\n",
        "#@markdown アップロードしたWAVファイルの切り抜き範囲(秒)を入力してください。その後セルを実行してください。\n",
        "from google.colab import files\n",
        "import IPython.display as ipd\n",
        "import ipywidgets as widgets\n",
        "import numpy as np\n",
        "import librosa\n",
        "import soundfile as sf\n",
        "\n",
        "data, sr = librosa.load(input_raw_audio_path, sr=None)\n",
        "duration = len(data) / sr\n",
        "\n",
        "# トリミングする範囲を指定（開始秒数と終了秒数）\n",
        "start_sec = 0#@param {type:\"integer\"}\n",
        "end_sec = 200#@param {type:\"integer\"}\n",
        "\n",
        "if start_sec > duration:\n",
        "    raise ValueError(f\"start_sec（秒）が動画の長さを超えた値で指定されています。音源の長さは{duration}秒です。\")\n",
        "if end_sec > duration:\n",
        "    raise ValueError(f\"end_sec（秒）が動画の長さを超えた値で指定されています。音源の長さは{duration}秒です。\")\n",
        "\n",
        "# 開始フレームと終了フレームを計算\n",
        "start_frame = int(start_sec * sr)\n",
        "end_frame = int(end_sec * sr)\n",
        "\n",
        "# トリミング\n",
        "trimmed_data = data[start_frame:end_frame]\n",
        "\n",
        "# トリミングされたwavファイルを保存\n",
        "sf.write(input_audio_path, trimmed_data, sr)"
      ],
      "metadata": {
        "id": "k6aUvrVkNX0I",
        "cellView": "form"
      },
      "execution_count": null,
      "outputs": []
    },
    {
      "cell_type": "code",
      "execution_count": null,
      "metadata": {
        "id": "2Zdt6wYmKw6q",
        "cellView": "form"
      },
      "outputs": [],
      "source": [
        "#@title 音源を確認（a. b. 共通）\n",
        "#@markdown　このセルを実行すると指定した音源の対象範囲を試聴することができます。 \\\n",
        "#@markdown　再生秒数は冒頭30秒に制限しています。（ランタイムが落ちやすいため。） \\\n",
        "#@markdown　また、実行にはしばらく時間を要します。\n",
        "audio_clipper = AudioClipper(input_audio_path)\n",
        "audio_clipper.run()\n",
        "ipd.Audio(audio_clipper.output_path, rate=44100)"
      ]
    },
    {
      "cell_type": "markdown",
      "metadata": {
        "id": "ur7e7rgWPFkG"
      },
      "source": [
        "# 3. 音源分離の実行\n"
      ]
    },
    {
      "cell_type": "code",
      "execution_count": null,
      "metadata": {
        "id": "98-2fRorMv8E",
        "cellView": "form"
      },
      "outputs": [],
      "source": [
        "#@title 音源分離の実行\n",
        "#@markdown プルダウンから分離したい対象のパートを選択した上でセルを実行して下さい。　\\\n",
        "#@markdown　音源分離処理が実行されます。\n",
        "\n",
        "input_directory_path = '/content/separated/htdemucs/input_clip/'\n",
        "delete_files_in_directory(input_directory_path)\n",
        "\n",
        "extraction_source = \"vocals\" #@param [\"vocals\", \"drums\", \"bass\", \"other\"]\n",
        "!python3 -m demucs --two-stems={extraction_source} {input_audio_path}"
      ]
    },
    {
      "cell_type": "code",
      "execution_count": null,
      "metadata": {
        "id": "FP9HonivPJOt",
        "cellView": "form"
      },
      "outputs": [],
      "source": [
        "#@title 音源を確認\n",
        "#@markdown　このセルを実行すると分離した対象を試聴することができます。 \\\n",
        "#@markdown　再生秒数は冒頭30秒に制限しています。（ランタイムが落ちやすいため。） \\\n",
        "#@markdown　また、実行にはしばらく時間を要します。\n",
        "separated_source_wav: str = f\"/content/separated/htdemucs/input_clip/{extraction_source}.wav\"\n",
        "audio_clipper = AudioClipper(separated_source_wav)\n",
        "audio_clipper.run()\n",
        "ipd.Audio(audio_clipper.output_path, rate=44100)"
      ]
    },
    {
      "cell_type": "markdown",
      "source": [
        "# 4. ダウンロード"
      ],
      "metadata": {
        "id": "hZIM6IHSGLB4"
      }
    },
    {
      "cell_type": "code",
      "source": [
        "#@title 分離した音源のダウンロード\n",
        "#@markdown セルを実行することでzipファイル形式でダウンロードできます。 \\\n",
        "#@markdown zipファイルには以下のファイルが含まれます。\n",
        "#@markdown 1. 抽出対象パートのWAVファイル\n",
        "#@markdown 2. 抽出対象パートのみを楽曲から取り除いたトラックのWAVファイル \\\n",
        "#@markdown\n",
        "#@markdown zipファイルのダウンロードには時間を要します。\n",
        "\n",
        "output_directory_path = '/content/separated/zip/'\n",
        "delete_files_in_directory(output_directory_path)\n",
        "\n",
        "directory_path = '/content/separated/htdemucs/input_clip/'\n",
        "zip_path = '/content/separated/zip/separated_data.zip'\n",
        "zip_path_without_extension = os.path.splitext(zip_path)[0]\n",
        "shutil.make_archive(zip_path_without_extension, 'zip', directory_path)\n",
        "\n",
        "\n",
        "files.download(zip_path)"
      ],
      "metadata": {
        "id": "Enys0796BFvs",
        "cellView": "form"
      },
      "execution_count": null,
      "outputs": []
    }
  ],
  "metadata": {
    "accelerator": "GPU",
    "colab": {
      "provenance": [],
      "include_colab_link": true
    },
    "kernelspec": {
      "display_name": "Python 3.10.4 64-bit",
      "language": "python",
      "name": "python3"
    },
    "language_info": {
      "codemirror_mode": {
        "name": "ipython",
        "version": 3
      },
      "file_extension": ".py",
      "mimetype": "text/x-python",
      "name": "python",
      "nbconvert_exporter": "python",
      "pygments_lexer": "ipython3",
      "version": "3.10.4"
    },
    "vscode": {
      "interpreter": {
        "hash": "69158ccfe43d0b962045f592ede11796dd42f250837ab62152c8bc6cd100a15b"
      }
    }
  },
  "nbformat": 4,
  "nbformat_minor": 0
}